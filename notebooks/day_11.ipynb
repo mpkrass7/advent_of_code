{
 "cells": [
  {
   "cell_type": "code",
   "execution_count": 47,
   "metadata": {},
   "outputs": [],
   "source": [
    "import sys\n",
    "import os\n",
    "import re\n",
    "\n",
    "cur_dir = \"/Users/marshallkrassenstein/Desktop/projects/advent_of_code/\"\n",
    "os.chdir(cur_dir)\n",
    "\n",
    "import pandas as pd\n",
    "\n",
    "# list[pd.read_table('input_numbers.txt')]\n",
    "# f = open(\"input_numbers.txt\", \"r\")\n",
    "def read_file(file_path):\n",
    "    f= open(file_path, 'r')\n",
    "    final_list=[]\n",
    "    for line in f:\n",
    "        final_list.append(list(line.replace('\\n','')))\n",
    "    return np.array(final_list)\n",
    "seat_set = read_file('day_11/input.txt')"
   ]
  },
  {
   "cell_type": "code",
   "execution_count": 56,
   "metadata": {},
   "outputs": [
    {
     "data": {
      "text/plain": [
       "[(1, 2), (1, 3), (2, 3)]"
      ]
     },
     "execution_count": 56,
     "metadata": {},
     "output_type": "execute_result"
    }
   ],
   "source": [
    "import itertools\n",
    "list(itertools.combinations([1,2,3],2))"
   ]
  },
  {
   "cell_type": "markdown",
   "metadata": {},
   "source": [
    "<article class=\"day-desc\"><h2>--- Day 11: Seating System ---</h2><p>Your plane lands with plenty of time to spare. The final leg of your journey is a ferry that goes directly to the tropical island where you can finally start your vacation. As you reach the waiting area to board the ferry, you realize you're so early, nobody else has even arrived yet!</p>\n",
    "<p>By modeling the process people use to choose (or abandon) their seat in the waiting area, you're pretty sure you can predict the best place to sit. You make a quick map of the seat layout (your puzzle input).</p>\n",
    "<p>The seat layout fits neatly on a grid. Each position is either floor (<code>.</code>), an empty seat (<code>L</code>), or an occupied seat (<code>#</code>). For example, the initial seat layout might look like this:</p>\n",
    "<pre><code>L.LL.LL.LL\n",
    "LLLLLLL.LL\n",
    "L.L.L..L..\n",
    "LLLL.LL.LL\n",
    "L.LL.LL.LL\n",
    "L.LLLLL.LL\n",
    "..L.L.....\n",
    "LLLLLLLLLL\n",
    "L.LLLLLL.L\n",
    "L.LLLLL.LL\n",
    "</code></pre>\n",
    "<p>Now, you just need to model the people who will be arriving shortly. Fortunately, people are entirely predictable and always follow a simple set of rules. All decisions are based on the <em>number of occupied seats</em> adjacent to a given seat (one of the eight positions immediately up, down, left, right, or diagonal from the seat). The following rules are applied to every seat simultaneously:</p>\n",
    "<ul>\n",
    "<li>If a seat is <em>empty</em> (<code>L</code>) and there are <em>no</em> occupied seats adjacent to it, the seat becomes <em>occupied</em>.</li>\n",
    "<li>If a seat is <em>occupied</em> (<code>#</code>) and <em>four or more</em> seats adjacent to it are also occupied, the seat becomes <em>empty</em>.</li>\n",
    "<li>Otherwise, the seat's state does not change.</li>\n",
    "</ul>\n",
    "<p><span title=\"Floor... floor never changes.\">Floor (<code>.</code>) never changes</span>; seats don't move, and nobody sits on the floor.</p>\n",
    "<p>After one round of these rules, every seat in the example layout becomes occupied:</p>\n",
    "<pre><code>#.##.##.##\n",
    "#######.##\n",
    "#.#.#..#..\n",
    "####.##.##\n",
    "#.##.##.##\n",
    "#.#####.##\n",
    "..#.#.....\n",
    "##########\n",
    "#.######.#\n",
    "#.#####.##\n",
    "</code></pre>\n",
    "<p>After a second round, the seats with four or more occupied adjacent seats become empty again:</p>\n",
    "<pre><code>#.LL.L#.##\n",
    "#LLLLLL.L#\n",
    "L.L.L..L..\n",
    "#LLL.LL.L#\n",
    "#.LL.LL.LL\n",
    "#.LLLL#.##\n",
    "..L.L.....\n",
    "#LLLLLLLL#\n",
    "#.LLLLLL.L\n",
    "#.#LLLL.##\n",
    "</code></pre>\n",
    "<p>This process continues for three more rounds:</p>\n",
    "<pre><code>#.##.L#.##\n",
    "#L###LL.L#\n",
    "L.#.#..#..\n",
    "#L##.##.L#\n",
    "#.##.LL.LL\n",
    "#.###L#.##\n",
    "..#.#.....\n",
    "#L######L#\n",
    "#.LL###L.L\n",
    "#.#L###.##\n",
    "</code></pre>\n",
    "<pre><code>#.#L.L#.##\n",
    "#LLL#LL.L#\n",
    "L.L.L..#..\n",
    "#LLL.##.L#\n",
    "#.LL.LL.LL\n",
    "#.LL#L#.##\n",
    "..L.L.....\n",
    "#L#LLLL#L#\n",
    "#.LLLLLL.L\n",
    "#.#L#L#.##\n",
    "</code></pre>\n",
    "<pre><code>#.#L.L#.##\n",
    "#LLL#LL.L#\n",
    "L.#.L..#..\n",
    "#L##.##.L#\n",
    "#.#L.LL.LL\n",
    "#.#L#L#.##\n",
    "..L.L.....\n",
    "#L#L##L#L#\n",
    "#.LLLLLL.L\n",
    "#.#L#L#.##\n",
    "</code></pre>\n",
    "<p>At this point, something interesting happens: the chaos stabilizes and further applications of these rules cause no seats to change state! Once people stop moving around, you count <em><code>37</code></em> occupied seats.</p>\n",
    "<p>Simulate your seating area by applying the seating rules repeatedly until no seats change state. <em>How many seats end up occupied?</em></p>\n",
    "</article>"
   ]
  },
  {
   "cell_type": "code",
   "execution_count": 78,
   "metadata": {},
   "outputs": [
    {
     "data": {
      "text/plain": [
       "2316"
      ]
     },
     "execution_count": 78,
     "metadata": {},
     "output_type": "execute_result"
    }
   ],
   "source": [
    "import numpy as np\n",
    "import scipy.signal\n",
    "\n",
    "def swap_seats(seats):\n",
    "    \n",
    "    seats_1 = seats.copy()\n",
    "    seats_2 = seats.copy()\n",
    "    neighbors = np.array([[1,1,1], [1,0,1], [1,1,1]])\n",
    "    l1 = np.where(seats_1 == 'L', 0, seats)\n",
    "    l2 = np.where(seats_1 == '.', 0, l1)\n",
    "    l3 = np.where(seats_1 == '#', 1, l2)\n",
    "    l3 = l3.astype(int)\n",
    "    \n",
    "    # Neat function for summing neighbors\n",
    "    sum_mat = scipy.signal.convolve2d(l3, neighbors, mode='same')\n",
    "    seats_2 = np.where((sum_mat == 0) & (seats_1 == 'L'), '#',seats_2)\n",
    "    \n",
    "    while not (seats_1==seats_2).all():\n",
    "        seats_1 = seats_2.copy()\n",
    "        l1 = np.where(seats_1 == 'L', 0, seats_1)\n",
    "        l2 = np.where(seats_1 == '.', 0, l1)\n",
    "        l3 = np.where(seats_1 == '#', 1, l2)\n",
    "        l3 = l3.astype(int)\n",
    "        sum_mat = scipy.signal.convolve2d(l3, neighbors, mode='same')\n",
    "        seats_2 = np.where((sum_mat == 0) & (seats_1 == 'L'), '#',seats_2)\n",
    "        seats_2 = np.where((sum_mat >= 4) & (seats_1 == '#'), 'L',seats_2)\n",
    "    \n",
    "    \n",
    "    return np.sum(l3)\n",
    "\n",
    "#     return test\n",
    "\n",
    "swap_seats(seat_set)"
   ]
  },
  {
   "cell_type": "markdown",
   "metadata": {},
   "source": []
  },
  {
   "cell_type": "code",
   "execution_count": 26,
   "metadata": {},
   "outputs": [
    {
     "data": {
      "text/plain": [
       "array([['L', 'L'],\n",
       "       ['L', 'L']], dtype='<U1')"
      ]
     },
     "execution_count": 26,
     "metadata": {},
     "output_type": "execute_result"
    }
   ],
   "source": [
    "def swap_weird_seats(seats):\n",
    "    seats_1 = seats.copy()"
   ]
  },
  {
   "cell_type": "code",
   "execution_count": null,
   "metadata": {},
   "outputs": [],
   "source": []
  }
 ],
 "metadata": {
  "kernelspec": {
   "display_name": "Python 3",
   "language": "python",
   "name": "python3"
  },
  "language_info": {
   "codemirror_mode": {
    "name": "ipython",
    "version": 3
   },
   "file_extension": ".py",
   "mimetype": "text/x-python",
   "name": "python",
   "nbconvert_exporter": "python",
   "pygments_lexer": "ipython3",
   "version": "3.7.6"
  }
 },
 "nbformat": 4,
 "nbformat_minor": 4
}
