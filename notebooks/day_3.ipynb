{
 "cells": [
  {
   "cell_type": "code",
   "execution_count": 2,
   "metadata": {},
   "outputs": [],
   "source": [
    "import sys\n",
    "import os\n",
    "\n",
    "cur_dir = \"/Users/marshallkrassenstein/Desktop/projects/advent_of_code/\"\n",
    "os.chdir(cur_dir)"
   ]
  },
  {
   "cell_type": "markdown",
   "metadata": {},
   "source": [
    "<article class=\"day-desc\"><h2>--- Day 3: Toboggan Trajectory ---</h2><p>With the toboggan login problems resolved, you set off toward the airport. While travel by toboggan might be easy, it's certainly not safe: there's <span title=\"It looks like the toboggan steering system even runs on Intcode! Good thing you don't have to modify it.\">very minimal steering</span> and the area is covered in trees. You'll need to see which angles will take you near the fewest trees.</p>\n",
    "<p>Due to the local geology, trees in this area only grow on exact integer coordinates in a grid. You make a map (your puzzle input) of the open squares (<code>.</code>) and trees (<code>#</code>) you can see. For example:</p>\n",
    "<pre><code>..##.......\n",
    "#...#...#..\n",
    ".#....#..#.\n",
    "..#.#...#.#\n",
    ".#...##..#.\n",
    "..#.##.....\n",
    ".#.#.#....#\n",
    ".#........#\n",
    "#.##...#...\n",
    "#...##....#\n",
    ".#..#...#.#\n",
    "</code></pre>\n",
    "<p>These aren't the only trees, though; due to something you read about once involving arboreal genetics and biome stability, the same pattern repeats to the right many times:</p>\n",
    "<pre><code><em>..##.......</em>..##.........##.........##.........##.........##.......  ---&gt;\n",
    "<em>#...#...#..</em>#...#...#..#...#...#..#...#...#..#...#...#..#...#...#..\n",
    "<em>.#....#..#.</em>.#....#..#..#....#..#..#....#..#..#....#..#..#....#..#.\n",
    "<em>..#.#...#.#</em>..#.#...#.#..#.#...#.#..#.#...#.#..#.#...#.#..#.#...#.#\n",
    "<em>.#...##..#.</em>.#...##..#..#...##..#..#...##..#..#...##..#..#...##..#.\n",
    "<em>..#.##.....</em>..#.##.......#.##.......#.##.......#.##.......#.##.....  ---&gt;\n",
    "<em>.#.#.#....#</em>.#.#.#....#.#.#.#....#.#.#.#....#.#.#.#....#.#.#.#....#\n",
    "<em>.#........#</em>.#........#.#........#.#........#.#........#.#........#\n",
    "<em>#.##...#...</em>#.##...#...#.##...#...#.##...#...#.##...#...#.##...#...\n",
    "<em>#...##....#</em>#...##....##...##....##...##....##...##....##...##....#\n",
    "<em>.#..#...#.#</em>.#..#...#.#.#..#...#.#.#..#...#.#.#..#...#.#.#..#...#.#  ---&gt;\n",
    "</code></pre>\n",
    "<p>You start on the open square (<code>.</code>) in the top-left corner and need to reach the bottom (below the bottom-most row on your map).</p>\n",
    "<p>The toboggan can only follow a few specific slopes (you opted for a cheaper model that prefers rational numbers); start by <em>counting all the trees</em> you would encounter for the slope <em>right 3, down 1</em>:</p>\n",
    "<p>From your starting position at the top-left, check the position that is right 3 and down 1. Then, check the position that is right 3 and down 1 from there, and so on until you go past the bottom of the map.</p>\n",
    "<p>The locations you'd check in the above example are marked here with <code><em>O</em></code> where there was an open square and <code><em>X</em></code> where there was a tree:</p>\n",
    "<pre><code>..##.........##.........##.........##.........##.........##.......  ---&gt;\n",
    "#..<em>O</em>#...#..#...#...#..#...#...#..#...#...#..#...#...#..#...#...#..\n",
    ".#....<em>X</em>..#..#....#..#..#....#..#..#....#..#..#....#..#..#....#..#.\n",
    "..#.#...#<em>O</em>#..#.#...#.#..#.#...#.#..#.#...#.#..#.#...#.#..#.#...#.#\n",
    ".#...##..#..<em>X</em>...##..#..#...##..#..#...##..#..#...##..#..#...##..#.\n",
    "..#.##.......#.<em>X</em>#.......#.##.......#.##.......#.##.......#.##.....  ---&gt;\n",
    ".#.#.#....#.#.#.#.<em>O</em>..#.#.#.#....#.#.#.#....#.#.#.#....#.#.#.#....#\n",
    ".#........#.#........<em>X</em>.#........#.#........#.#........#.#........#\n",
    "#.##...#...#.##...#...#.<em>X</em>#...#...#.##...#...#.##...#...#.##...#...\n",
    "#...##....##...##....##...#<em>X</em>....##...##....##...##....##...##....#\n",
    ".#..#...#.#.#..#...#.#.#..#...<em>X</em>.#.#..#...#.#.#..#...#.#.#..#...#.#  ---&gt;\n",
    "</code></pre>\n",
    "<p>In this example, traversing the map using this slope would cause you to encounter <code><em>7</em></code> trees.</p>\n",
    "<p>Starting at the top-left corner of your map and following a slope of right 3 and down 1, <em>how many trees would you encounter?</em></p>\n",
    "</article>"
   ]
  },
  {
   "cell_type": "code",
   "execution_count": 70,
   "metadata": {},
   "outputs": [],
   "source": [
    "def read_file(file_path):\n",
    "    f= open(file_path, 'r')\n",
    "    final_list=[]\n",
    "    for line in f:\n",
    "        final_list.append(list(line.replace('\\n', '')))\n",
    "    return final_list\n",
    "\n",
    "trees = read_file(cur_dir+'day_3/trees.txt')"
   ]
  },
  {
   "cell_type": "code",
   "execution_count": 107,
   "metadata": {},
   "outputs": [
    {
     "data": {
      "text/plain": [
       "167"
      ]
     },
     "execution_count": 107,
     "metadata": {},
     "output_type": "execute_result"
    }
   ],
   "source": [
    "import numpy as np\n",
    "    \n",
    "def make_valid_set(trees_list, down_iter, right_iter):\n",
    "    import math\n",
    "    num_trees = np.where(np.array(trees)=='.', 0, 1)\n",
    "#     print(num_trees.shape)\n",
    "    stack_num = int(((num_trees.shape[0]*(right_iter//down_iter+1)) // 31))\n",
    "#     print(stack_num)\n",
    "    full_trees = num_trees.copy()\n",
    "    for i in range(stack_num):\n",
    "        full_trees = np.hstack((full_trees, num_trees))\n",
    "#     print(full_trees.shape)\n",
    "    return full_trees\n",
    "    \n",
    "def ski_trees(tree_df, down_iter, right_iter):\n",
    "    loc = [0,0]\n",
    "    count_trees = tree_df[loc[0], loc[1]]\n",
    "    while loc[0] < tree_df.shape[0]:\n",
    "        try:\n",
    "            loc[0] += down_iter\n",
    "            loc[1] += right_iter\n",
    "            count_trees += tree_df[loc[0], loc[1]]\n",
    "        except IndexError:\n",
    "            pass\n",
    "    return count_trees\n",
    "\n",
    "new_trees = make_valid_set(trees, 1,3)\n",
    "ski_trees(new_trees,1,3)"
   ]
  },
  {
   "cell_type": "markdown",
   "metadata": {},
   "source": [
    "<article class=\"day-desc\"><h2 id=\"part2\">--- Part Two ---</h2><p>Time to check the rest of the slopes - you need to minimize the probability of a sudden arboreal stop, after all.</p>\n",
    "<p>Determine the number of trees you would encounter if, for each of the following slopes, you start at the top-left corner and traverse the map all the way to the bottom:</p>\n",
    "<ul>\n",
    "<li>Right 1, down 1.</li>\n",
    "<li>Right 3, down 1. (This is the slope you already checked.)</li>\n",
    "<li>Right 5, down 1.</li>\n",
    "<li>Right 7, down 1.</li>\n",
    "<li>Right 1, down 2.</li>\n",
    "</ul>\n",
    "<p>In the above example, these slopes would find <code>2</code>, <code>7</code>, <code>3</code>, <code>4</code>, and <code>2</code> tree(s) respectively; multiplied together, these produce the answer <code><em>336</em></code>.</p>\n",
    "<p><em>What do you get if you multiply together the number of trees encountered on each of the listed slopes?</em></p>\n",
    "</article>"
   ]
  },
  {
   "cell_type": "code",
   "execution_count": 108,
   "metadata": {
    "scrolled": true
   },
   "outputs": [
    {
     "data": {
      "text/plain": [
       "736527114"
      ]
     },
     "execution_count": 108,
     "metadata": {},
     "output_type": "execute_result"
    }
   ],
   "source": [
    "def map_paths(trees_list, path_iters):\n",
    "    final_count = []\n",
    "    for path in path_iters:\n",
    "#         print(path)\n",
    "        tree_df = make_valid_set(trees_list, right_iter = path[0], down_iter = path[1])\n",
    "        count = ski_trees(tree_df, right_iter = path[0], down_iter = path[1])\n",
    "        final_count.append(count)\n",
    "#     print(np.array(final_count))\n",
    "    return np.product(np.array(final_count))\n",
    "\n",
    "# print(ski_trees(new_trees,1,3))\n",
    "paths = [\n",
    "    (1,1),\n",
    "    (3,1),\n",
    "    (5,1),\n",
    "    (7,1),\n",
    "    (1,2)\n",
    "]\n",
    "map_paths(trees, paths)"
   ]
  }
 ],
 "metadata": {
  "kernelspec": {
   "display_name": "Python 3",
   "language": "python",
   "name": "python3"
  },
  "language_info": {
   "codemirror_mode": {
    "name": "ipython",
    "version": 3
   },
   "file_extension": ".py",
   "mimetype": "text/x-python",
   "name": "python",
   "nbconvert_exporter": "python",
   "pygments_lexer": "ipython3",
   "version": "3.7.6"
  }
 },
 "nbformat": 4,
 "nbformat_minor": 4
}
