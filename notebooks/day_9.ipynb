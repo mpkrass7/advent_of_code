{
 "cells": [
  {
   "cell_type": "code",
   "execution_count": 1,
   "metadata": {},
   "outputs": [],
   "source": [
    "import sys\n",
    "import os\n",
    "import re\n",
    "\n",
    "cur_dir = \"/Users/marshallkrassenstein/Desktop/projects/advent_of_code/\"\n",
    "os.chdir(cur_dir)"
   ]
  },
  {
   "cell_type": "code",
   "execution_count": 4,
   "metadata": {},
   "outputs": [
    {
     "name": "stdout",
     "output_type": "stream",
     "text": [
      "[9, 1, 39, 30, 43]\n"
     ]
    }
   ],
   "source": [
    "import pandas as pd\n",
    "\n",
    "# list[pd.read_table('input_numbers.txt')]\n",
    "# f = open(\"input_numbers.txt\", \"r\")\n",
    "def read_file(file_path):\n",
    "    f= open(file_path, 'r')\n",
    "    final_list=[]\n",
    "    for line in f:\n",
    "        final_list.append(int(line))\n",
    "    return final_list\n",
    "rule_set = read_file('day_9/input.txt')\n",
    "print(rule_set[:5])"
   ]
  },
  {
   "cell_type": "markdown",
   "metadata": {},
   "source": [
    "<article class=\"day-desc\"><h2>--- Day 9: Encoding Error ---</h2><p>With your neighbor happily enjoying their video game, you turn your attention to an open data port on the little screen in the seat in front of you.</p>\n",
    "<p>Though the port is non-standard, you manage to connect it to your computer through the clever use of several paperclips. Upon connection, the port outputs a series of numbers (your puzzle input).</p>\n",
    "<p>The data appears to be encrypted with the eXchange-Masking Addition System (<span title=\"No relation.\">XMAS</span>) which, conveniently for you, is an old cypher with an important weakness.</p>\n",
    "<p>XMAS starts by transmitting a <em>preamble</em> of 25 numbers. After that, each number you receive should be the sum of any two of the 25 immediately previous numbers. The two numbers will have different values, and there might be more than one such pair.</p>\n",
    "<p>For example, suppose your preamble consists of the numbers <code>1</code> through <code>25</code> in a random order. To be valid, the next number must be the sum of two of those numbers:</p>\n",
    "<ul>\n",
    "<li><code>26</code> would be a <em>valid</em> next number, as it could be <code>1</code> plus <code>25</code> (or many other pairs, like <code>2</code> and <code>24</code>).</li>\n",
    "<li><code>49</code> would be a <em>valid</em> next number, as it is the sum of <code>24</code> and <code>25</code>.</li>\n",
    "<li><code>100</code> would <em>not</em> be valid; no two of the previous 25 numbers sum to <code>100</code>.</li>\n",
    "<li><code>50</code> would also <em>not</em> be valid; although <code>25</code> appears in the previous 25 numbers, the two numbers in the pair must be different.</li>\n",
    "</ul>\n",
    "<p>Suppose the 26th number is <code>45</code>, and the first number (no longer an option, as it is more than 25 numbers ago) was <code>20</code>. Now, for the next number to be valid, there needs to be some pair of numbers among <code>1</code>-<code>19</code>, <code>21</code>-<code>25</code>, or <code>45</code> that add up to it:</p>\n",
    "<ul>\n",
    "<li><code>26</code> would still be a <em>valid</em> next number, as <code>1</code> and <code>25</code> are still within the previous 25 numbers.</li>\n",
    "<li><code>65</code> would <em>not</em> be valid, as no two of the available numbers sum to it.</li>\n",
    "<li><code>64</code> and <code>66</code> would both be <em>valid</em>, as they are the result of <code>19+45</code> and <code>21+45</code> respectively.</li>\n",
    "</ul>\n",
    "<p>Here is a larger example which only considers the previous <em>5</em> numbers (and has a preamble of length 5):</p>\n",
    "<pre><code>35\n",
    "20\n",
    "15\n",
    "25\n",
    "47\n",
    "40\n",
    "62\n",
    "55\n",
    "65\n",
    "95\n",
    "102\n",
    "117\n",
    "150\n",
    "182\n",
    "127\n",
    "219\n",
    "299\n",
    "277\n",
    "309\n",
    "576\n",
    "</code></pre>\n",
    "<p>In this example, after the 5-number preamble, almost every number is the sum of two of the previous 5 numbers; the only number that does not follow this rule is <em><code>127</code></em>.</p>\n",
    "<p>The first step of attacking the weakness in the XMAS data is to find the first number in the list (after the preamble) which is <em>not</em> the sum of two of the 25 numbers before it. <em>What is the first number that does not have this property?</em></p>\n",
    "</article>"
   ]
  },
  {
   "cell_type": "code",
   "execution_count": 10,
   "metadata": {
    "scrolled": true
   },
   "outputs": [
    {
     "name": "stdout",
     "output_type": "stream",
     "text": [
      "1492208709\n"
     ]
    }
   ],
   "source": [
    "def find_weakness(rules):\n",
    "    i=25\n",
    "    while True:\n",
    "        valid_rule = False\n",
    "        diffs = []\n",
    "        temp = rules[i-25:i]\n",
    "        for j in temp:\n",
    "            if j in diffs:\n",
    "#                 print(f'Valid rule found for {i}')\n",
    "                valid_rule = True\n",
    "                i+=1\n",
    "                break\n",
    "            diffs.append(rules[i] - j)\n",
    "        if not valid_rule:\n",
    "#             print('HA')\n",
    "            print(rule_set[i])\n",
    "            return rule_set[i]\n",
    "\n",
    "weakness = find_weakness(rule_set)\n",
    "        \n",
    "        "
   ]
  },
  {
   "cell_type": "markdown",
   "metadata": {},
   "source": [
    "<article class=\"day-desc\"><h2 id=\"part2\">--- Part Two ---</h2><p>The final step in breaking the XMAS encryption relies on the invalid number you just found: you must <em>find a contiguous set of at least two numbers</em> in your list which sum to the invalid number from step 1.</p>\n",
    "<p>Again consider the above example:</p>\n",
    "<pre><code>35\n",
    "20\n",
    "<em>15</em>\n",
    "<em>25</em>\n",
    "<em>47</em>\n",
    "<em>40</em>\n",
    "62\n",
    "55\n",
    "65\n",
    "95\n",
    "102\n",
    "117\n",
    "150\n",
    "182\n",
    "127\n",
    "219\n",
    "299\n",
    "277\n",
    "309\n",
    "576\n",
    "</code></pre>\n",
    "<p>In this list, adding up all of the numbers from <code>15</code> through <code>40</code> produces the invalid number from step 1, <code>127</code>. (Of course, the contiguous set of numbers in your actual list might be much longer.)</p>\n",
    "<p>To find the <em>encryption weakness</em>, add together the <em>smallest</em> and <em>largest</em> number in this contiguous range; in this example, these are <code>15</code> and <code>47</code>, producing <em><code>62</code></em>.</p>\n",
    "<p><em>What is the encryption weakness in your XMAS-encrypted list of numbers?</em></p>\n",
    "</article>"
   ]
  },
  {
   "cell_type": "code",
   "execution_count": 15,
   "metadata": {},
   "outputs": [
    {
     "name": "stdout",
     "output_type": "stream",
     "text": [
      "Just right!\n"
     ]
    },
    {
     "data": {
      "text/plain": [
       "238243506"
      ]
     },
     "execution_count": 15,
     "metadata": {},
     "output_type": "execute_result"
    }
   ],
   "source": [
    "def solve_xmas(num, rules):\n",
    "    list_mas = []\n",
    "    id_min = 0\n",
    "    id_max = 20\n",
    "    while True:\n",
    "        list_mas = rules[id_min:id_max]\n",
    "        if sum(list_mas) == num:\n",
    "            print('Just right!')\n",
    "            return min(list_mas) + max(list_mas)\n",
    "        elif sum(list_mas) < num:\n",
    "#             print('small')\n",
    "            id_max += 1\n",
    "        elif sum(list_mas) > num:\n",
    "#             print('big')\n",
    "            id_min += 1\n",
    "            \n",
    "solve_xmas(weakness, rule_set)"
   ]
  },
  {
   "cell_type": "code",
   "execution_count": null,
   "metadata": {},
   "outputs": [],
   "source": []
  }
 ],
 "metadata": {
  "kernelspec": {
   "display_name": "Python 3",
   "language": "python",
   "name": "python3"
  },
  "language_info": {
   "codemirror_mode": {
    "name": "ipython",
    "version": 3
   },
   "file_extension": ".py",
   "mimetype": "text/x-python",
   "name": "python",
   "nbconvert_exporter": "python",
   "pygments_lexer": "ipython3",
   "version": "3.7.6"
  }
 },
 "nbformat": 4,
 "nbformat_minor": 4
}
