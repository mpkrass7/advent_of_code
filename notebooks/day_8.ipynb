{
 "cells": [
  {
   "cell_type": "code",
   "execution_count": 1,
   "metadata": {},
   "outputs": [],
   "source": [
    "import sys\n",
    "import os\n",
    "import re\n",
    "\n",
    "cur_dir = \"/Users/marshallkrassenstein/Desktop/projects/advent_of_code/\"\n",
    "os.chdir(cur_dir)"
   ]
  },
  {
   "cell_type": "markdown",
   "metadata": {},
   "source": [
    "<article class=\"day-desc\"><h2>--- Day 8: Handheld Halting ---</h2><p>Your flight to the major airline hub reaches cruising altitude without incident.  While you consider checking the in-flight menu for one of those drinks that come with a little umbrella, you are interrupted by the kid sitting next to you.</p>\n",
    "<p>Their <a target=\"_blank\" href=\"https://en.wikipedia.org/wiki/Handheld_game_console\">handheld game console</a> won't turn on! They ask if you can take a look.</p>\n",
    "<p>You narrow the problem down to a strange <em>infinite loop</em> in the <span title=\"A trendy new line of encrypted footwear?\">boot code</span> (your puzzle input) of the device. You should be able to fix it, but first you need to be able to run the code in isolation.</p>\n",
    "<p>The boot code is represented as a text file with one <em>instruction</em> per line of text. Each instruction consists of an <em>operation</em> (<code>acc</code>, <code>jmp</code>, or <code>nop</code>) and an <em>argument</em> (a signed number like <code>+4</code> or <code>-20</code>).</p>\n",
    "<ul>\n",
    "<li><code>acc</code> increases or decreases a single global value called the <em>accumulator</em> by the value given in the argument. For example, <code>acc +7</code> would increase the accumulator by 7. The accumulator starts at <code>0</code>. After an <code>acc</code> instruction, the instruction immediately below it is executed next.</li>\n",
    "<li><code>jmp</code> <em>jumps</em> to a new instruction relative to itself. The next instruction to execute is found using the argument as an <em>offset</em> from the <code>jmp</code> instruction; for example, <code>jmp +2</code> would skip the next instruction, <code>jmp +1</code> would continue to the instruction immediately below it, and <code>jmp -20</code> would cause the instruction 20 lines above to be executed next.</li>\n",
    "<li><code>nop</code> stands for <em>No OPeration</em> - it does nothing.  The instruction immediately below it is executed next.</li>\n",
    "</ul>\n",
    "<p>For example, consider the following program:</p>\n",
    "<pre><code>nop +0\n",
    "acc +1\n",
    "jmp +4\n",
    "acc +3\n",
    "jmp -3\n",
    "acc -99\n",
    "acc +1\n",
    "jmp -4\n",
    "acc +6\n",
    "</code></pre>\n",
    "<p>These instructions are visited in this order:</p>\n",
    "<pre><code>nop +0  | 1\n",
    "acc +1  | 2, 8(!)\n",
    "jmp +4  | 3\n",
    "acc +3  | 6\n",
    "jmp -3  | 7\n",
    "acc -99 |\n",
    "acc +1  | 4\n",
    "jmp -4  | 5\n",
    "acc +6  |\n",
    "</code></pre>\n",
    "<p>First, the <code>nop +0</code> does nothing. Then, the accumulator is increased from 0 to 1 (<code>acc +1</code>) and <code>jmp +4</code> sets the next instruction to the other <code>acc +1</code> near the bottom. After it increases the accumulator from 1 to 2, <code>jmp -4</code> executes, setting the next instruction to the only <code>acc +3</code>. It sets the accumulator to 5, and <code>jmp -3</code> causes the program to continue back at the first <code>acc +1</code>.</p>\n",
    "<p>This is an <em>infinite loop</em>: with this sequence of jumps, the program will run forever. The moment the program tries to run any instruction a second time, you know it will never terminate.</p>\n",
    "<p>Immediately <em>before</em> the program would run an instruction a second time, the value in the accumulator is <em><code>5</code></em>.</p>\n",
    "<p>Run your copy of the boot code. Immediately before any instruction is executed a second time, <em>what value is in the accumulator?</em></p>\n",
    "</article>"
   ]
  },
  {
   "cell_type": "code",
   "execution_count": 66,
   "metadata": {},
   "outputs": [
    {
     "name": "stdout",
     "output_type": "stream",
     "text": [
      "[('acc', '+42'), ('acc', '-12'), ('nop', '+112'), ('acc', '+47'), ('jmp', '+600')]\n"
     ]
    }
   ],
   "source": [
    "import pandas as pd\n",
    "\n",
    "# list[pd.read_table('input_numbers.txt')]\n",
    "# f = open(\"input_numbers.txt\", \"r\")\n",
    "def read_file(file_path):\n",
    "    f= open(file_path, 'r')\n",
    "    final_list=[]\n",
    "    for line in f:\n",
    "        sub = line.replace('\\n','').split(' ')\n",
    "        final_list.append((sub[0], sub[1]))\n",
    "    return final_list\n",
    "game_rules = read_file('day_8/input.txt')\n",
    "print(game_rules[:5])"
   ]
  },
  {
   "cell_type": "code",
   "execution_count": 67,
   "metadata": {},
   "outputs": [
    {
     "name": "stdout",
     "output_type": "stream",
     "text": [
      "Total count before loop: 1859\n"
     ]
    }
   ],
   "source": [
    "\n",
    "def find_loop(rule_set):\n",
    "    jmp_nod_ind = []\n",
    "    known_ind = []\n",
    "    ind = 0\n",
    "    total_count = 0\n",
    "    while True:\n",
    "        if ind in known_ind:\n",
    "            print(f\"Total count before loop: {total_count}\")\n",
    "            return total_count, jmp_nod_ind\n",
    "        elif ind + 1 > len(rule_set):\n",
    "            print('Found end')\n",
    "            return [total_count]\n",
    "        known_ind.append(ind)\n",
    "        rule, action = rule_set[ind]\n",
    "        action = int(action)\n",
    "\n",
    "        if rule == 'acc':\n",
    "            total_count += action\n",
    "            ind += 1\n",
    "        elif rule == 'nop':\n",
    "            jmp_nod_ind.append(ind)\n",
    "            ind += 1\n",
    "        else:\n",
    "            jmp_nod_ind.append(ind)\n",
    "            ind += action \n",
    "\n",
    "count, switch_options = find_loop(game_rules)"
   ]
  },
  {
   "cell_type": "markdown",
   "metadata": {},
   "source": [
    "<article class=\"day-desc\"><h2 id=\"part2\">--- Part Two ---</h2><p>After some careful analysis, you believe that <em>exactly one instruction is corrupted</em>.</p>\n",
    "<p>Somewhere in the program, <em>either</em> a <code>jmp</code> is supposed to be a <code>nop</code>, <em>or</em> a <code>nop</code> is supposed to be a <code>jmp</code>. (No <code>acc</code> instructions were harmed in the corruption of this boot code.)</p>\n",
    "<p>The program is supposed to terminate by <em>attempting to execute an instruction immediately after the last instruction in the file</em>. By changing exactly one <code>jmp</code> or <code>nop</code>, you can repair the boot code and make it terminate correctly.</p>\n",
    "<p>For example, consider the same program from above:</p>\n",
    "<pre><code>nop +0\n",
    "acc +1\n",
    "jmp +4\n",
    "acc +3\n",
    "jmp -3\n",
    "acc -99\n",
    "acc +1\n",
    "jmp -4\n",
    "acc +6\n",
    "</code></pre>\n",
    "<p>If you change the first instruction from <code>nop +0</code> to <code>jmp +0</code>, it would create a single-instruction infinite loop, never leaving that instruction.  If you change almost any of the <code>jmp</code> instructions, the program will still eventually find another <code>jmp</code> instruction and loop forever.</p>\n",
    "<p>However, if you change the second-to-last instruction (from <code>jmp -4</code> to <code>nop -4</code>), the program terminates! The instructions are visited in this order:</p>\n",
    "<pre><code>nop +0  | 1\n",
    "acc +1  | 2\n",
    "jmp +4  | 3\n",
    "acc +3  |\n",
    "jmp -3  |\n",
    "acc -99 |\n",
    "acc +1  | 4\n",
    "<em>nop</em> -4  | 5\n",
    "acc +6  | 6\n",
    "</code></pre>\n",
    "<p>After the last instruction (<code>acc +6</code>), the program terminates by attempting to run the instruction below the last instruction in the file.  With this change, after the program terminates, the accumulator contains the value <em><code>8</code></em> (<code>acc +1</code>, <code>acc +1</code>, <code>acc +6</code>).</p>\n",
    "<p>Fix the program so that it terminates normally by changing exactly one <code>jmp</code> (to <code>nop</code>) or <code>nop</code> (to <code>jmp</code>). <em>What is the value of the accumulator after the program terminates?</em></p>\n",
    "</article>"
   ]
  },
  {
   "cell_type": "code",
   "execution_count": 69,
   "metadata": {},
   "outputs": [
    {
     "name": "stdout",
     "output_type": "stream",
     "text": [
      "Total count before loop: 1758\n",
      "Total count before loop: 1876\n",
      "Total count before loop: 2099\n",
      "Total count before loop: 1982\n",
      "Total count before loop: 1846\n",
      "Total count before loop: 1931\n",
      "Total count before loop: 1859\n",
      "Total count before loop: 134\n",
      "Total count before loop: 1843\n",
      "Total count before loop: 125\n",
      "Total count before loop: 468\n",
      "Total count before loop: 150\n",
      "Total count before loop: 1831\n",
      "Total count before loop: 947\n",
      "Total count before loop: 1168\n",
      "Total count before loop: 412\n",
      "Total count before loop: 968\n",
      "Total count before loop: 454\n",
      "Total count before loop: 484\n",
      "Total count before loop: 1216\n",
      "Total count before loop: 749\n",
      "Total count before loop: 1859\n",
      "Total count before loop: 1132\n",
      "Total count before loop: 700\n",
      "Total count before loop: 664\n",
      "Total count before loop: 1850\n",
      "Total count before loop: 742\n",
      "Total count before loop: 779\n",
      "Total count before loop: 803\n",
      "Total count before loop: 1693\n",
      "Total count before loop: 1868\n",
      "Total count before loop: 876\n",
      "Found end\n",
      "Win!\n"
     ]
    },
    {
     "data": {
      "text/plain": [
       "1235"
      ]
     },
     "execution_count": 69,
     "metadata": {},
     "output_type": "execute_result"
    }
   ],
   "source": [
    "def fix_loop(switches, rule_set): \n",
    "    for ind in switches:\n",
    "        alt_rules = rule_set.copy()\n",
    "        if rule_set[ind][0] == 'nop':\n",
    "            alt_rules[ind] = ('jmp', rule_set[ind][1])\n",
    "        elif rule_set[ind][0] == 'jmp':\n",
    "            alt_rules[ind] = ('nop', rule_set[ind][1])\n",
    "        \n",
    "        loop_check = find_loop(alt_rules)\n",
    "        if len(loop_check) == 1:\n",
    "            print('Win!')\n",
    "            return loop_check[0]\n",
    "    \n",
    "    return 'Solution not found'\n",
    "    \n",
    "fix_loop(switch_options, game_rules)"
   ]
  },
  {
   "cell_type": "code",
   "execution_count": null,
   "metadata": {},
   "outputs": [],
   "source": []
  }
 ],
 "metadata": {
  "kernelspec": {
   "display_name": "Python 3",
   "language": "python",
   "name": "python3"
  },
  "language_info": {
   "codemirror_mode": {
    "name": "ipython",
    "version": 3
   },
   "file_extension": ".py",
   "mimetype": "text/x-python",
   "name": "python",
   "nbconvert_exporter": "python",
   "pygments_lexer": "ipython3",
   "version": "3.7.6"
  }
 },
 "nbformat": 4,
 "nbformat_minor": 4
}
