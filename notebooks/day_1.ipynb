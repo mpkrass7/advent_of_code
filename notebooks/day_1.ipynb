{
 "cells": [
  {
   "cell_type": "code",
   "execution_count": 35,
   "metadata": {},
   "outputs": [],
   "source": [
    "import sys\n",
    "import os\n",
    "\n",
    "cur_dir = \"/Users/marshallkrassenstein/Desktop/projects/advent_of_code/day_1/\"\n",
    "os.chdir(cur_dir)"
   ]
  },
  {
   "cell_type": "markdown",
   "metadata": {},
   "source": [
    "<article class=\"day-desc\"><h2>--- Day 1: Report Repair ---</h2><p>After saving Christmas <a href=\"/events\">five years in a row</a>, you've decided to take a vacation at a nice resort on a tropical island. <span title=\"WHAT COULD GO WRONG\">Surely</span>, Christmas will go on without you.</p>\n",
    "<p>The tropical island has its own currency and is entirely cash-only.  The gold coins used there have a little picture of a starfish; the locals just call them <em class=\"star\">stars</em>. None of the currency exchanges seem to have heard of them, but somehow, you'll need to find fifty of these coins by the time you arrive so you can pay the deposit on your room.</p>\n",
    "<p>To save your vacation, you need to get all <em class=\"star\">fifty stars</em> by December 25th.</p>\n",
    "<p>Collect stars by solving puzzles.  Two puzzles will be made available on each day in the Advent calendar; the second puzzle is unlocked when you complete the first.  Each puzzle grants <em class=\"star\">one star</em>. Good luck!</p>\n",
    "<p>Before you leave, the Elves in accounting just need you to fix your <em>expense report</em> (your puzzle input); apparently, something isn't quite adding up.</p>\n",
    "<p>Specifically, they need you to <em>find the two entries that sum to <code>2020</code></em> and then multiply those two numbers together.</p>\n",
    "<p>For example, suppose your expense report contained the following:</p>\n",
    "<pre><code>1721\n",
    "979\n",
    "366\n",
    "299\n",
    "675\n",
    "1456\n",
    "</code></pre>\n",
    "<p>In this list, the two entries that sum to <code>2020</code> are <code>1721</code> and <code>299</code>. Multiplying them together produces <code>1721 * 299 = 514579</code>, so the correct answer is <code><em>514579</em></code>.</p>\n",
    "<p>Of course, your expense report is much larger. <em>Find the two entries that sum to <code>2020</code>; what do you get if you multiply them together?</em></p>\n",
    "</article>"
   ]
  },
  {
   "cell_type": "code",
   "execution_count": 38,
   "metadata": {},
   "outputs": [
    {
     "name": "stdout",
     "output_type": "stream",
     "text": [
      "1683 337\n",
      "Solved in 100 iterations\n"
     ]
    },
    {
     "data": {
      "text/plain": [
       "567171"
      ]
     },
     "execution_count": 38,
     "metadata": {},
     "output_type": "execute_result"
    }
   ],
   "source": [
    "import pandas as pd\n",
    "\n",
    "# list[pd.read_table('input_numbers.txt')]\n",
    "# f = open(\"input_numbers.txt\", \"r\")\n",
    "def read_file(file_path):\n",
    "    f= open(file_path, 'r')\n",
    "    final_list=[]\n",
    "    for line in f:\n",
    "        final_list.append(int(line))\n",
    "    return final_list\n",
    "\n",
    "def solve_expense_report_two(expenses):\n",
    "    solve_values=[]\n",
    "    for count, expense in enumerate(expenses):\n",
    "        if expense in solve_values:\n",
    "            print(expense, 2020-expense)\n",
    "            print(f'Solved in {count} iterations')\n",
    "            return expense * (2020-expense)\n",
    "        solve_values.append(2020-expense)\n",
    "\n",
    "\n",
    "        \n",
    "        \n",
    "numbers = read_file('input_numbers.txt')\n",
    "\n",
    "solve_expense_report(numbers)\n"
   ]
  },
  {
   "cell_type": "markdown",
   "metadata": {},
   "source": [
    "<article class=\"day-desc\"><h2 id=\"part2\">--- Part Two ---</h2><p>The Elves in accounting are thankful for your help; one of them even offers you a starfish coin they had left over from a past vacation. They offer you a second one if you can find <em>three</em> numbers in your expense report that meet the same criteria.</p>\n",
    "<p>Using the above example again, the three entries that sum to <code>2020</code> are <code>979</code>, <code>366</code>, and <code>675</code>. Multiplying them together produces the answer, <code><em>241861950</em></code>.</p>\n",
    "<p>In your expense report, <em>what is the product of the three entries that sum to <code>2020</code>?</em></p>\n",
    "</article>"
   ]
  },
  {
   "cell_type": "code",
   "execution_count": 37,
   "metadata": {},
   "outputs": [
    {
     "name": "stdout",
     "output_type": "stream",
     "text": [
      "Found in 6097 iterations\n",
      "862 877 281\n"
     ]
    },
    {
     "data": {
      "text/plain": [
       "212428694"
      ]
     },
     "execution_count": 37,
     "metadata": {},
     "output_type": "execute_result"
    }
   ],
   "source": [
    "def solve_expense_report_three(expenses):\n",
    "    index_1 = []\n",
    "    index_2 = []\n",
    "    solve_values=[]\n",
    "    for count, expense1 in enumerate(expenses):\n",
    "        for count2, expense2 in enumerate(expenses):\n",
    "            if expense1==expense2:\n",
    "                pass\n",
    "            else:\n",
    "                if expense2 in solve_values:\n",
    "                    print(f\"Found in {len(expenses)*count + count2} iterations\")\n",
    "                    index = solve_values.index(expense2)\n",
    "                    print(expenses[index_1[index]], expenses[index_2[index]], expense2)\n",
    "                    return expenses[index_1[index]] * expenses[index_2[index]] * expense2\n",
    "                    \n",
    "                    \n",
    "                solve_values.append(2020-expense1-expense2)\n",
    "                index_1.append(count)\n",
    "                index_2.append(count2)\n",
    "                \n",
    "solve_expense_report_three(numbers)"
   ]
  },
  {
   "cell_type": "code",
   "execution_count": null,
   "metadata": {},
   "outputs": [],
   "source": []
  }
 ],
 "metadata": {
  "kernelspec": {
   "display_name": "Python 3",
   "language": "python",
   "name": "python3"
  },
  "language_info": {
   "codemirror_mode": {
    "name": "ipython",
    "version": 3
   },
   "file_extension": ".py",
   "mimetype": "text/x-python",
   "name": "python",
   "nbconvert_exporter": "python",
   "pygments_lexer": "ipython3",
   "version": "3.7.6"
  }
 },
 "nbformat": 4,
 "nbformat_minor": 4
}
