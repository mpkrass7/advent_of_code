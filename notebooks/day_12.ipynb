{
 "cells": [
  {
   "cell_type": "code",
   "execution_count": 9,
   "metadata": {},
   "outputs": [],
   "source": [
    "import sys\n",
    "import os\n",
    "import re\n",
    "\n",
    "cur_dir = \"/Users/marshallkrassenstein/Desktop/projects/advent_of_code/\"\n",
    "os.chdir(cur_dir)\n",
    "\n",
    "import pandas as pd\n",
    "\n",
    "# list[pd.read_table('input_numbers.txt')]\n",
    "# f = open(\"input_numbers.txt\", \"r\")\n",
    "def read_file(file_path):\n",
    "    f= open(file_path, 'r')\n",
    "    final_list=[]\n",
    "    for line in f:\n",
    "        line_start = line.replace('\\n','')\n",
    "        line1 = line_start[0]\n",
    "        line2 = int(line_start[1:])\n",
    "        final_list.append((line1, line2))\n",
    "    return final_list\n",
    "dir_set = read_file('day_12/input.txt')"
   ]
  },
  {
   "cell_type": "markdown",
   "metadata": {},
   "source": [
    "<article class=\"day-desc\"><h2>--- Day 12: Rain Risk ---</h2><p>Your ferry made decent progress toward the island, but the storm came in <span title=\"At least it wasn't a Category Six!\">faster than anyone expected</span>. The ferry needs to take <em>evasive actions</em>!</p>\n",
    "<p>Unfortunately, the ship's navigation computer seems to be malfunctioning; rather than giving a route directly to safety, it produced extremely circuitous instructions. When the captain uses the <a href=\"https://en.wikipedia.org/wiki/Public_address_system\" target=\"_blank\">PA system</a> to ask if anyone can help, you quickly volunteer.</p>\n",
    "<p>The navigation instructions (your puzzle input) consists of a sequence of single-character <em>actions</em> paired with integer input <em>values</em>. After staring at them for a few minutes, you work out what they probably mean:</p>\n",
    "<ul>\n",
    "<li>Action <em><code>N</code></em> means to move <em>north</em> by the given value.</li>\n",
    "<li>Action <em><code>S</code></em> means to move <em>south</em> by the given value.</li>\n",
    "<li>Action <em><code>E</code></em> means to move <em>east</em> by the given value.</li>\n",
    "<li>Action <em><code>W</code></em> means to move <em>west</em> by the given value.</li>\n",
    "<li>Action <em><code>L</code></em> means to turn <em>left</em> the given number of degrees.</li>\n",
    "<li>Action <em><code>R</code></em> means to turn <em>right</em> the given number of degrees.</li>\n",
    "<li>Action <em><code>F</code></em> means to move <em>forward</em> by the given value in the direction the ship is currently facing.</li>\n",
    "</ul>\n",
    "<p>The ship starts by facing <em>east</em>. Only the <code>L</code> and <code>R</code> actions change the direction the ship is facing. (That is, if the ship is facing east and the next instruction is <code>N10</code>, the ship would move north 10 units, but would still move east if the following action were <code>F</code>.)</p>\n",
    "<p>For example:</p>\n",
    "<pre><code>F10\n",
    "N3\n",
    "F7\n",
    "R90\n",
    "F11\n",
    "</code></pre>\n",
    "<p>These instructions would be handled as follows:</p>\n",
    "<ul>\n",
    "<li><code>F10</code> would move the ship 10 units east (because the ship starts by facing east) to <em>east 10, north 0</em>.</li>\n",
    "<li><code>N3</code> would move the ship 3 units north to <em>east 10, north 3</em>.</li>\n",
    "<li><code>F7</code> would move the ship another 7 units east (because the ship is still facing east) to <em>east 17, north 3</em>.</li>\n",
    "<li><code>R90</code> would cause the ship to turn right by 90 degrees and face <em>south</em>; it remains at <em>east 17, north 3</em>.</li>\n",
    "<li><code>F11</code> would move the ship 11 units south to <em>east 17, south 8</em>.</li>\n",
    "</ul>\n",
    "<p>At the end of these instructions, the ship's <a href=\"https://en.wikipedia.org/wiki/Manhattan_distance\" target=\"_blank\">Manhattan distance</a> (sum of the absolute values of its east/west position and its north/south position) from its starting position is <code>17 + 8</code> = <em><code>25</code></em>.</p>\n",
    "<p>Figure out where the navigation instructions lead. <em>What is the Manhattan distance between that location and the ship's starting position?</em></p>\n",
    "</article>"
   ]
  },
  {
   "cell_type": "code",
   "execution_count": 33,
   "metadata": {},
   "outputs": [
    {
     "data": {
      "text/plain": [
       "1106"
      ]
     },
     "execution_count": 33,
     "metadata": {},
     "output_type": "execute_result"
    }
   ],
   "source": [
    "def get_manhattan(dirs):\n",
    "    set_direction = 'E'\n",
    "    dirs_dict = {'E':0, 'S':0, 'W':0, 'N':0}\n",
    "    compass = ['N', 'E', 'S', 'W']\n",
    "    \n",
    "    for direction in dirs:\n",
    "        if direction[0] == 'F':\n",
    "            dirs_dict[set_direction] += direction[1]\n",
    "        elif direction[0] == 'L':\n",
    "            turn_amt = direction[1] // 90\n",
    "            compass_loc = compass.index(set_direction)\n",
    "            set_direction = compass[(compass_loc-turn_amt)%4] \n",
    "        elif direction[0] == 'R':\n",
    "            turn_amt = direction[1] // 90\n",
    "            compass_loc = compass.index(set_direction)\n",
    "            set_direction = compass[(compass_loc+turn_amt)%4]\n",
    "        else:\n",
    "            dirs_dict[direction[0]] += direction[1]\n",
    "    \n",
    "    dist = abs(dirs_dict['E'] - dirs_dict['W']) + abs(dirs_dict['N'] - dirs_dict['S'])\n",
    "    return dist\n",
    "\n",
    "get_manhattan(dir_set)"
   ]
  },
  {
   "cell_type": "markdown",
   "metadata": {},
   "source": [
    "<article class=\"day-desc\"><h2 id=\"part2\">--- Part Two ---</h2><p>Before you can give the destination to the captain, you realize that the actual action meanings were printed on the back of the instructions the whole time.</p>\n",
    "<p>Almost all of the actions indicate how to move a <em>waypoint</em> which is relative to the ship's position:</p>\n",
    "<ul>\n",
    "<li>Action <em><code>N</code></em> means to move the waypoint <em>north</em> by the given value.</li>\n",
    "<li>Action <em><code>S</code></em> means to move the waypoint <em>south</em> by the given value.</li>\n",
    "<li>Action <em><code>E</code></em> means to move the waypoint <em>east</em> by the given value.</li>\n",
    "<li>Action <em><code>W</code></em> means to move the waypoint <em>west</em> by the given value.</li>\n",
    "<li>Action <em><code>L</code></em> means to rotate the waypoint around the ship <em>left</em> (<em>counter-clockwise</em>) the given number of degrees.</li>\n",
    "<li>Action <em><code>R</code></em> means to rotate the waypoint around the ship <em>right</em> (<em>clockwise</em>) the given number of degrees.</li>\n",
    "<li>Action <em><code>F</code></em> means to move <em>forward</em> to the waypoint a number of times equal to the given value.</li>\n",
    "</ul>\n",
    "<p>The waypoint starts <em>10 units east and 1 unit north</em> relative to the ship. The waypoint is relative to the ship; that is, if the ship moves, the waypoint moves with it.</p>\n",
    "<p>For example, using the same instructions as above:</p>\n",
    "<ul>\n",
    "<li><code>F10</code> moves the ship to the waypoint 10 times (a total of <em>100 units east and 10 units north</em>), leaving the ship at <em>east 100, north 10</em>. The waypoint stays 10 units east and 1 unit north of the ship.</li>\n",
    "<li><code>N3</code> moves the waypoint 3 units north to <em>10 units east and 4 units north of the ship</em>. The ship remains at <em>east 100, north 10</em>.</li>\n",
    "<li><code>F7</code> moves the ship to the waypoint 7 times (a total of <em>70 units east and 28 units north</em>), leaving the ship at <em>east 170, north 38</em>. The waypoint stays 10 units east and 4 units north of the ship.</li>\n",
    "<li><code>R90</code> rotates the waypoint around the ship clockwise 90 degrees, moving it to <em>4 units east and 10 units south of the ship</em>. The ship remains at <em>east 170, north 38</em>.</li>\n",
    "<li><code>F11</code> moves the ship to the waypoint 11 times (a total of <em>44 units east and 110 units south</em>), leaving the ship at <em>east 214, south 72</em>. The waypoint stays 4 units east and 10 units south of the ship.</li>\n",
    "</ul>\n",
    "<p>After these operations, the ship's Manhattan distance from its starting position is <code>214 + 72</code> = <em><code>286</code></em>.</p>\n",
    "<p>Figure out where the navigation instructions actually lead. <em>What is the Manhattan distance between that location and the ship's starting position?</em></p>\n",
    "</article>"
   ]
  },
  {
   "cell_type": "code",
   "execution_count": 61,
   "metadata": {},
   "outputs": [
    {
     "data": {
      "text/plain": [
       "107281"
      ]
     },
     "execution_count": 61,
     "metadata": {},
     "output_type": "execute_result"
    }
   ],
   "source": [
    "def get_manhattan_waypoint(dirs):\n",
    "    set_direction = 'E'\n",
    "    waypoint_dict = {'E':10, 'S':0, 'W':0, 'N':1}\n",
    "    tmp_waypoint_dict = waypoint_dict.copy()\n",
    "    ship_dict = {'E':0, 'S':0, 'W':0, 'N':0}\n",
    "    \n",
    "    compass = ['N', 'E', 'S', 'W']\n",
    "    \n",
    "    for direction in dirs:\n",
    "        if direction[0] == 'F':\n",
    "            for cardinal in ship_dict:\n",
    "                base_val = waypoint_dict[cardinal]\n",
    "                ship_dict[cardinal] += direction[1] * waypoint_dict[cardinal]\n",
    "        elif direction[0] == 'L':\n",
    "            turn_amt = direction[1] // 90\n",
    "            for i in compass:\n",
    "                compass_loc = compass.index(i)\n",
    "                new_loc = compass[(compass_loc+turn_amt)%4]\n",
    "                tmp_waypoint_dict[i] = waypoint_dict[new_loc]\n",
    "            waypoint_dict = tmp_waypoint_dict.copy()\n",
    "        elif direction[0] == 'R':\n",
    "            turn_amt = direction[1] // 90\n",
    "            for i in compass:\n",
    "                compass_loc = compass.index(i)\n",
    "                new_loc = compass[(compass_loc-turn_amt)%4]\n",
    "                tmp_waypoint_dict[i] = waypoint_dict[new_loc]\n",
    "            waypoint_dict = tmp_waypoint_dict.copy()\n",
    "        else:\n",
    "            waypoint_dict[direction[0]] += direction[1]\n",
    "\n",
    "    dist = abs(ship_dict['E'] - ship_dict['W']) + abs(ship_dict['N'] - ship_dict['S'])\n",
    "    return dist\n",
    "\n",
    "get_manhattan_waypoint(dir_set)"
   ]
  },
  {
   "cell_type": "code",
   "execution_count": null,
   "metadata": {},
   "outputs": [],
   "source": []
  }
 ],
 "metadata": {
  "kernelspec": {
   "display_name": "Python 3",
   "language": "python",
   "name": "python3"
  },
  "language_info": {
   "codemirror_mode": {
    "name": "ipython",
    "version": 3
   },
   "file_extension": ".py",
   "mimetype": "text/x-python",
   "name": "python",
   "nbconvert_exporter": "python",
   "pygments_lexer": "ipython3",
   "version": "3.7.6"
  }
 },
 "nbformat": 4,
 "nbformat_minor": 4
}
