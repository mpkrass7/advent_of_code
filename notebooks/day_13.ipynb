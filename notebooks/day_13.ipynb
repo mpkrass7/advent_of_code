{
 "cells": [
  {
   "cell_type": "code",
   "execution_count": 6,
   "metadata": {},
   "outputs": [
    {
     "data": {
      "text/plain": [
       "['1003681',\n",
       " '23,x,x,x,x,x,x,x,x,x,x,x,x,x,x,x,x,37,x,x,x,x,x,431,x,x,x,x,x,x,x,x,x,x,x,x,13,17,x,x,x,x,19,x,x,x,x,x,x,x,x,x,x,x,409,x,x,x,x,x,x,x,x,x,41,x,x,x,x,x,x,x,x,x,x,x,x,x,x,x,x,x,x,29']"
      ]
     },
     "execution_count": 6,
     "metadata": {},
     "output_type": "execute_result"
    }
   ],
   "source": [
    "import sys\n",
    "import os\n",
    "import re\n",
    "\n",
    "cur_dir = \"/Users/marshallkrassenstein/Desktop/projects/advent_of_code/\"\n",
    "os.chdir(cur_dir)\n",
    "\n",
    "import pandas as pd\n",
    "import re\n",
    "# list[pd.read_table('input_numbers.txt')]\n",
    "# f = open(\"input_numbers.txt\", \"r\")\n",
    "def read_file(file_path):\n",
    "    f= open(file_path, 'r')\n",
    "    final_list=[]\n",
    "    for line in f:\n",
    "        final_list.append(line.replace('\\n', ''))\n",
    "    return final_list\n",
    "bus_route_raw = read_file('day_13/input.txt')\n",
    "bus_route_raw"
   ]
  },
  {
   "cell_type": "code",
   "execution_count": 16,
   "metadata": {},
   "outputs": [],
   "source": [
    "test_case = [939,\n",
    "'7,13,x,x,59,x,31,19']"
   ]
  },
  {
   "cell_type": "markdown",
   "metadata": {},
   "source": [
    "<article class=\"day-desc\"><h2>--- Day 13: Shuttle Search ---</h2><p>Your ferry can make it safely to a nearby port, but it won't get much further. When you call to book another ship, you discover that no ships embark from that port to your vacation island. You'll need to get from the port to the nearest airport.</p>\n",
    "<p>Fortunately, a shuttle bus service is available to bring you from the sea port to the airport!  Each bus has an ID number that also indicates <em>how often the bus leaves for the airport</em>.</p>\n",
    "<p>Bus schedules are defined based on a <em>timestamp</em> that measures the <em>number of minutes</em> since some fixed reference point in the past. At timestamp <code>0</code>, every bus simultaneously departed from the sea port. After that, each bus travels to the airport, then various other locations, and finally returns to the sea port to repeat its journey forever.</p>\n",
    "<p>The time this loop takes a particular bus is also its ID number: the bus with ID <code>5</code> departs from the sea port at timestamps <code>0</code>, <code>5</code>, <code>10</code>, <code>15</code>, and so on. The bus with ID <code>11</code> departs at <code>0</code>, <code>11</code>, <code>22</code>, <code>33</code>, and so on. If you are there when the bus departs, you can ride that bus to the airport!</p>\n",
    "<p>Your notes (your puzzle input) consist of two lines.  The first line is your estimate of the <em>earliest timestamp you could depart on a bus</em>. The second line lists the bus IDs that are in service according to the shuttle company; entries that show <code>x</code> must be out of service, so you decide to ignore them.</p>\n",
    "<p>To save time once you arrive, your goal is to figure out <em>the earliest bus you can take to the airport</em>. (There will be exactly one such bus.)</p>\n",
    "<p>For example, suppose you have the following notes:</p>\n",
    "<pre><code>939\n",
    "7,13,x,x,59,x,31,19\n",
    "</code></pre>\n",
    "<p>Here, the earliest timestamp you could depart is <code>939</code>, and the bus IDs in service are <code>7</code>, <code>13</code>, <code>59</code>, <code>31</code>, and <code>19</code>. Near timestamp <code>939</code>, these bus IDs depart at the times marked <code>D</code>:</p>\n",
    "<pre><code>time   bus 7   bus 13  bus 59  bus 31  bus 19\n",
    "929      .       .       .       .       .\n",
    "930      .       .       .       D       .\n",
    "931      D       .       .       .       D\n",
    "932      .       .       .       .       .\n",
    "933      .       .       .       .       .\n",
    "934      .       .       .       .       .\n",
    "935      .       .       .       .       .\n",
    "936      .       D       .       .       .\n",
    "937      .       .       .       .       .\n",
    "938      D       .       .       .       .\n",
    "<em>939      .       .       .       .       .</em>\n",
    "940      .       .       .       .       .\n",
    "941      .       .       .       .       .\n",
    "942      .       .       .       .       .\n",
    "943      .       .       .       .       .\n",
    "<em>944      .       .       D       .       .</em>\n",
    "945      D       .       .       .       .\n",
    "946      .       .       .       .       .\n",
    "947      .       .       .       .       .\n",
    "948      .       .       .       .       .\n",
    "949      .       D       .       .       .\n",
    "</code></pre>\n",
    "<p>The earliest bus you could take is bus ID <code>59</code>. It doesn't depart until timestamp <code>944</code>, so you would need to wait <code>944 - 939 = 5</code> minutes before it departs. Multiplying the bus ID by the number of minutes you'd need to wait gives <em><code>295</code></em>.</p>\n",
    "<p><em>What is the ID of the earliest bus you can take to the airport multiplied by the number of minutes you'll need to wait for that bus?</em></p>\n",
    "</article>"
   ]
  },
  {
   "cell_type": "code",
   "execution_count": 56,
   "metadata": {},
   "outputs": [
    {
     "name": "stdout",
     "output_type": "stream",
     "text": [
      "5 409\n"
     ]
    },
    {
     "data": {
      "text/plain": [
       "2045"
      ]
     },
     "execution_count": 56,
     "metadata": {},
     "output_type": "execute_result"
    }
   ],
   "source": [
    "def get_routes(bus_routes):\n",
    "    import re\n",
    "    departures = [int(i) for i in re.findall('\\d+', bus_routes[1])]\n",
    "    arrival_time = int(bus_routes[0])\n",
    "    min_wait = 9999\n",
    "    min_bus_id = 0\n",
    "    for time in departures:\n",
    "        for i in range(10000):\n",
    "            if (arrival_time+i)/time == (arrival_time+i)//time:\n",
    "                if i < min_wait:\n",
    "                    min_wait = i\n",
    "                    min_bus_id = time\n",
    "                break\n",
    "    print(min_wait, min_bus_id)\n",
    "    return min_wait*min_bus_id\n",
    "        \n",
    "    \n",
    "get_routes(bus_route_raw)"
   ]
  },
  {
   "cell_type": "code",
   "execution_count": 107,
   "metadata": {},
   "outputs": [
    {
     "name": "stdout",
     "output_type": "stream",
     "text": [
      "[(7, 0), (13, 1), (59, 4), (31, 6), (19, 7)]\n",
      "1000000\n"
     ]
    },
    {
     "data": {
      "text/plain": [
       "1068781"
      ]
     },
     "execution_count": 107,
     "metadata": {},
     "output_type": "execute_result"
    }
   ],
   "source": [
    "def find_min_seq(bus_routes):\n",
    "    import re\n",
    "    departures = bus_routes[1].split(',')\n",
    "    dep_minutes = []\n",
    "    \n",
    "    counter=1000\n",
    "    for item in departures:\n",
    "        if re.findall('\\d+', item):\n",
    "            dep_minutes.append((int(item),departures.index(item)))\n",
    "    \n",
    "    print(dep_minutes)\n",
    "    while True:\n",
    "        if counter % 1000000 == 0:\n",
    "            print(counter)\n",
    "        counter+=1\n",
    "        for item in dep_minutes:\n",
    "            valid_set = True  \n",
    "            if (counter+item[1])%item[0] != 0:\n",
    "                valid_set = False\n",
    "                break\n",
    "\n",
    "        if valid_set:\n",
    "            return counter\n",
    "        \n",
    "    return dep_minutes\n",
    "\n",
    "find_min_seq(test_case)"
   ]
  },
  {
   "cell_type": "code",
   "execution_count": null,
   "metadata": {},
   "outputs": [],
   "source": []
  }
 ],
 "metadata": {
  "kernelspec": {
   "display_name": "Python 3",
   "language": "python",
   "name": "python3"
  },
  "language_info": {
   "codemirror_mode": {
    "name": "ipython",
    "version": 3
   },
   "file_extension": ".py",
   "mimetype": "text/x-python",
   "name": "python",
   "nbconvert_exporter": "python",
   "pygments_lexer": "ipython3",
   "version": "3.7.6"
  }
 },
 "nbformat": 4,
 "nbformat_minor": 4
}
